{
 "cells": [
  {
   "cell_type": "markdown",
   "metadata": {},
   "source": [
    "# Dynamic Bandwidth Trace Handler based on FCC-Trace\n",
    "## Preprocssing FCC Trace \n",
    "### T1 : Generate ftrace.csv \n",
    "* 목적 : 조건을 만족하는 사용자 단말을 식별하고 해당 단말의 전송률 평균과 표준편차를 구한다.\n",
    "* Output - frace.csv : CSV Fields = [ unit_id, count, avg_bw, std_bw ]\n",
    "    - unit_id : 추출된 사용자 단말의 ID\n",
    "    - count : 해당 단말의 trace sample의 수\n",
    "    - avg_bw : 해당 단말의 전송률 평균\n",
    "    - std_bw : 해당 단말의 전송률 표준 편차\n",
    "* Input \n",
    "    - csv_path : FCC 원본 Trace --> curr_webget.csv의 경로명\n",
    "    - target_url : 특정 목적지에 대한 Trace Sample만 추출\n",
    "        + bbc.com, bing.com, apple.com, cnn.com, ebay.com, msn.com, goolge.com, imdb.com 등이 있음\n",
    "        + 정보량이 많은 target을 대상으로 하는 것이 적합(?)\n",
    "        + default = 'http://edition.cnn.com/' \n",
    "    - nmin_sample : Sample 수가 충분히 많은 단말만 추출하기 위한 Sample수 추출 하한\n",
    "        + default = 100\n",
    "* 동작 개요\n",
    "    - target_url을 목적지로 하고 Sample 수가 nmin_sample 이상인 unit_id의 sample을 추출하고\n",
    "    - 해당 unit_id의 전송률 평균과 표준편차를 구한 후 csv file로 저장\n",
    "* 사용법\n",
    "    - 아래 Code Cell을 실행 \n",
    "    - 시간이 많이 소요. target_url을 변경하지 않는 한 재수행 필요 없음. 생성된 ftrace.csv 반복 사용 "
   ]
  },
  {
   "cell_type": "code",
   "execution_count": 1,
   "metadata": {},
   "outputs": [
    {
     "ename": "FileNotFoundError",
     "evalue": "[Errno 2] No such file or directory: '../fcctrace/curr_webget.csv'",
     "output_type": "error",
     "traceback": [
      "\u001b[0;31m---------------------------------------------------------------------------\u001b[0m",
      "\u001b[0;31mFileNotFoundError\u001b[0m                         Traceback (most recent call last)",
      "\u001b[1;32m/home/dion/2022/etri_notes/FCC-Trace Bandwidth Handler.ipynb Cell 2\u001b[0m in \u001b[0;36m<cell line: 34>\u001b[0;34m()\u001b[0m\n\u001b[1;32m     <a href='vscode-notebook-cell://wsl%2Bubuntu/home/dion/2022/etri_notes/FCC-Trace%20Bandwidth%20Handler.ipynb#W1sdnNjb2RlLXJlbW90ZQ%3D%3D?line=30'>31</a>\u001b[0m target_url \u001b[39m=\u001b[39m \u001b[39m'\u001b[39m\u001b[39mhttp://edition.cnn.com\u001b[39m\u001b[39m'\u001b[39m\n\u001b[1;32m     <a href='vscode-notebook-cell://wsl%2Bubuntu/home/dion/2022/etri_notes/FCC-Trace%20Bandwidth%20Handler.ipynb#W1sdnNjb2RlLXJlbW90ZQ%3D%3D?line=31'>32</a>\u001b[0m number_of_minimum_samples \u001b[39m=\u001b[39m \u001b[39m100\u001b[39m\n\u001b[0;32m---> <a href='vscode-notebook-cell://wsl%2Bubuntu/home/dion/2022/etri_notes/FCC-Trace%20Bandwidth%20Handler.ipynb#W1sdnNjb2RlLXJlbW90ZQ%3D%3D?line=33'>34</a>\u001b[0m parse_fcc_trace(fcc_trace_path, target_url, number_of_minimum_samples)\n",
      "\u001b[1;32m/home/dion/2022/etri_notes/FCC-Trace Bandwidth Handler.ipynb Cell 2\u001b[0m in \u001b[0;36mparse_fcc_trace\u001b[0;34m(csv_path, target_url, nmin_samples)\u001b[0m\n\u001b[1;32m      <a href='vscode-notebook-cell://wsl%2Bubuntu/home/dion/2022/etri_notes/FCC-Trace%20Bandwidth%20Handler.ipynb#W1sdnNjb2RlLXJlbW90ZQ%3D%3D?line=4'>5</a>\u001b[0m n_count\u001b[39m=\u001b[39m\u001b[39m0\u001b[39m\n\u001b[1;32m      <a href='vscode-notebook-cell://wsl%2Bubuntu/home/dion/2022/etri_notes/FCC-Trace%20Bandwidth%20Handler.ipynb#W1sdnNjb2RlLXJlbW90ZQ%3D%3D?line=5'>6</a>\u001b[0m use_col \u001b[39m=\u001b[39m [\u001b[39m'\u001b[39m\u001b[39munit_id\u001b[39m\u001b[39m'\u001b[39m,\u001b[39m'\u001b[39m\u001b[39mdtime\u001b[39m\u001b[39m'\u001b[39m, \u001b[39m'\u001b[39m\u001b[39mtarget\u001b[39m\u001b[39m'\u001b[39m, \u001b[39m'\u001b[39m\u001b[39mfetch_time\u001b[39m\u001b[39m'\u001b[39m, \u001b[39m'\u001b[39m\u001b[39mbytes_total\u001b[39m\u001b[39m'\u001b[39m, \u001b[39m'\u001b[39m\u001b[39mbytes_sec\u001b[39m\u001b[39m'\u001b[39m]\n\u001b[0;32m----> <a href='vscode-notebook-cell://wsl%2Bubuntu/home/dion/2022/etri_notes/FCC-Trace%20Bandwidth%20Handler.ipynb#W1sdnNjb2RlLXJlbW90ZQ%3D%3D?line=6'>7</a>\u001b[0m freader \u001b[39m=\u001b[39m pd\u001b[39m.\u001b[39;49mread_csv(csv_path, chunksize\u001b[39m=\u001b[39;49m\u001b[39m10000\u001b[39;49m, usecols\u001b[39m=\u001b[39;49muse_col)\n\u001b[1;32m      <a href='vscode-notebook-cell://wsl%2Bubuntu/home/dion/2022/etri_notes/FCC-Trace%20Bandwidth%20Handler.ipynb#W1sdnNjb2RlLXJlbW90ZQ%3D%3D?line=7'>8</a>\u001b[0m f_trace \u001b[39m=\u001b[39m pd\u001b[39m.\u001b[39mDataFrame()\n\u001b[1;32m      <a href='vscode-notebook-cell://wsl%2Bubuntu/home/dion/2022/etri_notes/FCC-Trace%20Bandwidth%20Handler.ipynb#W1sdnNjb2RlLXJlbW90ZQ%3D%3D?line=8'>9</a>\u001b[0m use_col\u001b[39m.\u001b[39mremove(\u001b[39m'\u001b[39m\u001b[39mtarget\u001b[39m\u001b[39m'\u001b[39m)\n",
      "File \u001b[0;32m~/.local/lib/python3.8/site-packages/pandas/util/_decorators.py:311\u001b[0m, in \u001b[0;36mdeprecate_nonkeyword_arguments.<locals>.decorate.<locals>.wrapper\u001b[0;34m(*args, **kwargs)\u001b[0m\n\u001b[1;32m    305\u001b[0m \u001b[39mif\u001b[39;00m \u001b[39mlen\u001b[39m(args) \u001b[39m>\u001b[39m num_allow_args:\n\u001b[1;32m    306\u001b[0m     warnings\u001b[39m.\u001b[39mwarn(\n\u001b[1;32m    307\u001b[0m         msg\u001b[39m.\u001b[39mformat(arguments\u001b[39m=\u001b[39marguments),\n\u001b[1;32m    308\u001b[0m         \u001b[39mFutureWarning\u001b[39;00m,\n\u001b[1;32m    309\u001b[0m         stacklevel\u001b[39m=\u001b[39mstacklevel,\n\u001b[1;32m    310\u001b[0m     )\n\u001b[0;32m--> 311\u001b[0m \u001b[39mreturn\u001b[39;00m func(\u001b[39m*\u001b[39;49margs, \u001b[39m*\u001b[39;49m\u001b[39m*\u001b[39;49mkwargs)\n",
      "File \u001b[0;32m~/.local/lib/python3.8/site-packages/pandas/io/parsers/readers.py:680\u001b[0m, in \u001b[0;36mread_csv\u001b[0;34m(filepath_or_buffer, sep, delimiter, header, names, index_col, usecols, squeeze, prefix, mangle_dupe_cols, dtype, engine, converters, true_values, false_values, skipinitialspace, skiprows, skipfooter, nrows, na_values, keep_default_na, na_filter, verbose, skip_blank_lines, parse_dates, infer_datetime_format, keep_date_col, date_parser, dayfirst, cache_dates, iterator, chunksize, compression, thousands, decimal, lineterminator, quotechar, quoting, doublequote, escapechar, comment, encoding, encoding_errors, dialect, error_bad_lines, warn_bad_lines, on_bad_lines, delim_whitespace, low_memory, memory_map, float_precision, storage_options)\u001b[0m\n\u001b[1;32m    665\u001b[0m kwds_defaults \u001b[39m=\u001b[39m _refine_defaults_read(\n\u001b[1;32m    666\u001b[0m     dialect,\n\u001b[1;32m    667\u001b[0m     delimiter,\n\u001b[0;32m   (...)\u001b[0m\n\u001b[1;32m    676\u001b[0m     defaults\u001b[39m=\u001b[39m{\u001b[39m\"\u001b[39m\u001b[39mdelimiter\u001b[39m\u001b[39m\"\u001b[39m: \u001b[39m\"\u001b[39m\u001b[39m,\u001b[39m\u001b[39m\"\u001b[39m},\n\u001b[1;32m    677\u001b[0m )\n\u001b[1;32m    678\u001b[0m kwds\u001b[39m.\u001b[39mupdate(kwds_defaults)\n\u001b[0;32m--> 680\u001b[0m \u001b[39mreturn\u001b[39;00m _read(filepath_or_buffer, kwds)\n",
      "File \u001b[0;32m~/.local/lib/python3.8/site-packages/pandas/io/parsers/readers.py:575\u001b[0m, in \u001b[0;36m_read\u001b[0;34m(filepath_or_buffer, kwds)\u001b[0m\n\u001b[1;32m    572\u001b[0m _validate_names(kwds\u001b[39m.\u001b[39mget(\u001b[39m\"\u001b[39m\u001b[39mnames\u001b[39m\u001b[39m\"\u001b[39m, \u001b[39mNone\u001b[39;00m))\n\u001b[1;32m    574\u001b[0m \u001b[39m# Create the parser.\u001b[39;00m\n\u001b[0;32m--> 575\u001b[0m parser \u001b[39m=\u001b[39m TextFileReader(filepath_or_buffer, \u001b[39m*\u001b[39;49m\u001b[39m*\u001b[39;49mkwds)\n\u001b[1;32m    577\u001b[0m \u001b[39mif\u001b[39;00m chunksize \u001b[39mor\u001b[39;00m iterator:\n\u001b[1;32m    578\u001b[0m     \u001b[39mreturn\u001b[39;00m parser\n",
      "File \u001b[0;32m~/.local/lib/python3.8/site-packages/pandas/io/parsers/readers.py:933\u001b[0m, in \u001b[0;36mTextFileReader.__init__\u001b[0;34m(self, f, engine, **kwds)\u001b[0m\n\u001b[1;32m    930\u001b[0m     \u001b[39mself\u001b[39m\u001b[39m.\u001b[39moptions[\u001b[39m\"\u001b[39m\u001b[39mhas_index_names\u001b[39m\u001b[39m\"\u001b[39m] \u001b[39m=\u001b[39m kwds[\u001b[39m\"\u001b[39m\u001b[39mhas_index_names\u001b[39m\u001b[39m\"\u001b[39m]\n\u001b[1;32m    932\u001b[0m \u001b[39mself\u001b[39m\u001b[39m.\u001b[39mhandles: IOHandles \u001b[39m|\u001b[39m \u001b[39mNone\u001b[39;00m \u001b[39m=\u001b[39m \u001b[39mNone\u001b[39;00m\n\u001b[0;32m--> 933\u001b[0m \u001b[39mself\u001b[39m\u001b[39m.\u001b[39m_engine \u001b[39m=\u001b[39m \u001b[39mself\u001b[39;49m\u001b[39m.\u001b[39;49m_make_engine(f, \u001b[39mself\u001b[39;49m\u001b[39m.\u001b[39;49mengine)\n",
      "File \u001b[0;32m~/.local/lib/python3.8/site-packages/pandas/io/parsers/readers.py:1217\u001b[0m, in \u001b[0;36mTextFileReader._make_engine\u001b[0;34m(self, f, engine)\u001b[0m\n\u001b[1;32m   1213\u001b[0m     mode \u001b[39m=\u001b[39m \u001b[39m\"\u001b[39m\u001b[39mrb\u001b[39m\u001b[39m\"\u001b[39m\n\u001b[1;32m   1214\u001b[0m \u001b[39m# error: No overload variant of \"get_handle\" matches argument types\u001b[39;00m\n\u001b[1;32m   1215\u001b[0m \u001b[39m# \"Union[str, PathLike[str], ReadCsvBuffer[bytes], ReadCsvBuffer[str]]\"\u001b[39;00m\n\u001b[1;32m   1216\u001b[0m \u001b[39m# , \"str\", \"bool\", \"Any\", \"Any\", \"Any\", \"Any\", \"Any\"\u001b[39;00m\n\u001b[0;32m-> 1217\u001b[0m \u001b[39mself\u001b[39m\u001b[39m.\u001b[39mhandles \u001b[39m=\u001b[39m get_handle(  \u001b[39m# type: ignore[call-overload]\u001b[39;49;00m\n\u001b[1;32m   1218\u001b[0m     f,\n\u001b[1;32m   1219\u001b[0m     mode,\n\u001b[1;32m   1220\u001b[0m     encoding\u001b[39m=\u001b[39;49m\u001b[39mself\u001b[39;49m\u001b[39m.\u001b[39;49moptions\u001b[39m.\u001b[39;49mget(\u001b[39m\"\u001b[39;49m\u001b[39mencoding\u001b[39;49m\u001b[39m\"\u001b[39;49m, \u001b[39mNone\u001b[39;49;00m),\n\u001b[1;32m   1221\u001b[0m     compression\u001b[39m=\u001b[39;49m\u001b[39mself\u001b[39;49m\u001b[39m.\u001b[39;49moptions\u001b[39m.\u001b[39;49mget(\u001b[39m\"\u001b[39;49m\u001b[39mcompression\u001b[39;49m\u001b[39m\"\u001b[39;49m, \u001b[39mNone\u001b[39;49;00m),\n\u001b[1;32m   1222\u001b[0m     memory_map\u001b[39m=\u001b[39;49m\u001b[39mself\u001b[39;49m\u001b[39m.\u001b[39;49moptions\u001b[39m.\u001b[39;49mget(\u001b[39m\"\u001b[39;49m\u001b[39mmemory_map\u001b[39;49m\u001b[39m\"\u001b[39;49m, \u001b[39mFalse\u001b[39;49;00m),\n\u001b[1;32m   1223\u001b[0m     is_text\u001b[39m=\u001b[39;49mis_text,\n\u001b[1;32m   1224\u001b[0m     errors\u001b[39m=\u001b[39;49m\u001b[39mself\u001b[39;49m\u001b[39m.\u001b[39;49moptions\u001b[39m.\u001b[39;49mget(\u001b[39m\"\u001b[39;49m\u001b[39mencoding_errors\u001b[39;49m\u001b[39m\"\u001b[39;49m, \u001b[39m\"\u001b[39;49m\u001b[39mstrict\u001b[39;49m\u001b[39m\"\u001b[39;49m),\n\u001b[1;32m   1225\u001b[0m     storage_options\u001b[39m=\u001b[39;49m\u001b[39mself\u001b[39;49m\u001b[39m.\u001b[39;49moptions\u001b[39m.\u001b[39;49mget(\u001b[39m\"\u001b[39;49m\u001b[39mstorage_options\u001b[39;49m\u001b[39m\"\u001b[39;49m, \u001b[39mNone\u001b[39;49;00m),\n\u001b[1;32m   1226\u001b[0m )\n\u001b[1;32m   1227\u001b[0m \u001b[39massert\u001b[39;00m \u001b[39mself\u001b[39m\u001b[39m.\u001b[39mhandles \u001b[39mis\u001b[39;00m \u001b[39mnot\u001b[39;00m \u001b[39mNone\u001b[39;00m\n\u001b[1;32m   1228\u001b[0m f \u001b[39m=\u001b[39m \u001b[39mself\u001b[39m\u001b[39m.\u001b[39mhandles\u001b[39m.\u001b[39mhandle\n",
      "File \u001b[0;32m~/.local/lib/python3.8/site-packages/pandas/io/common.py:789\u001b[0m, in \u001b[0;36mget_handle\u001b[0;34m(path_or_buf, mode, encoding, compression, memory_map, is_text, errors, storage_options)\u001b[0m\n\u001b[1;32m    784\u001b[0m \u001b[39melif\u001b[39;00m \u001b[39misinstance\u001b[39m(handle, \u001b[39mstr\u001b[39m):\n\u001b[1;32m    785\u001b[0m     \u001b[39m# Check whether the filename is to be opened in binary mode.\u001b[39;00m\n\u001b[1;32m    786\u001b[0m     \u001b[39m# Binary mode does not support 'encoding' and 'newline'.\u001b[39;00m\n\u001b[1;32m    787\u001b[0m     \u001b[39mif\u001b[39;00m ioargs\u001b[39m.\u001b[39mencoding \u001b[39mand\u001b[39;00m \u001b[39m\"\u001b[39m\u001b[39mb\u001b[39m\u001b[39m\"\u001b[39m \u001b[39mnot\u001b[39;00m \u001b[39min\u001b[39;00m ioargs\u001b[39m.\u001b[39mmode:\n\u001b[1;32m    788\u001b[0m         \u001b[39m# Encoding\u001b[39;00m\n\u001b[0;32m--> 789\u001b[0m         handle \u001b[39m=\u001b[39m \u001b[39mopen\u001b[39;49m(\n\u001b[1;32m    790\u001b[0m             handle,\n\u001b[1;32m    791\u001b[0m             ioargs\u001b[39m.\u001b[39;49mmode,\n\u001b[1;32m    792\u001b[0m             encoding\u001b[39m=\u001b[39;49mioargs\u001b[39m.\u001b[39;49mencoding,\n\u001b[1;32m    793\u001b[0m             errors\u001b[39m=\u001b[39;49merrors,\n\u001b[1;32m    794\u001b[0m             newline\u001b[39m=\u001b[39;49m\u001b[39m\"\u001b[39;49m\u001b[39m\"\u001b[39;49m,\n\u001b[1;32m    795\u001b[0m         )\n\u001b[1;32m    796\u001b[0m     \u001b[39melse\u001b[39;00m:\n\u001b[1;32m    797\u001b[0m         \u001b[39m# Binary mode\u001b[39;00m\n\u001b[1;32m    798\u001b[0m         handle \u001b[39m=\u001b[39m \u001b[39mopen\u001b[39m(handle, ioargs\u001b[39m.\u001b[39mmode)\n",
      "\u001b[0;31mFileNotFoundError\u001b[0m: [Errno 2] No such file or directory: '../fcctrace/curr_webget.csv'"
     ]
    }
   ],
   "source": [
    "import numpy as np\n",
    "import pandas as pd \n",
    "from itertools import chain\n",
    "def parse_fcc_trace(csv_path, target_url, nmin_samples) :\n",
    "    n_count=0\n",
    "    use_col = ['unit_id','dtime', 'target', 'fetch_time', 'bytes_total', 'bytes_sec']\n",
    "    freader = pd.read_csv(csv_path, chunksize=10000, usecols=use_col)\n",
    "    f_trace = pd.DataFrame()\n",
    "    use_col.remove('target')\n",
    "    #max_id = 0  # max('unit_id') = 47073261, # of records = 1294 * 10000\n",
    "\n",
    "    for dfchunk in freader :\n",
    "        #f_dfchunk = dfchunk[dfchunk['target']=='http://m.imdb.com/help/']\n",
    "        f_dfchunk = dfchunk[dfchunk['target']==target_url]\n",
    "        f_trace = f_trace.append(f_dfchunk[use_col], ignore_index=True)\n",
    "        n_count += 1\n",
    "        if n_count > 2000 :         # of records = 1294 * 10000\n",
    "            break\n",
    "\n",
    "    xdf = f_trace.groupby(['unit_id']).count()['dtime'].to_frame('count')\n",
    "    xdf['avg_bw'] = f_trace.groupby(['unit_id']).mean()['bytes_sec'] * 8 / 1000000\n",
    "    xdf['std_bw'] = f_trace.groupby(['unit_id']).std()['bytes_sec'] * 8 / 1000000\n",
    "\n",
    "    xdf[xdf['count'] >= nmin_samples].to_csv('ftrace.csv')\n",
    "    #print(n_count * 10000)\n",
    "    return n_count\n",
    "\n",
    "\n",
    "# ==================================================\n",
    "fcc_trace_path = '../fcctrace/curr_webget.csv'\n",
    "target_url = 'http://edition.cnn.com'\n",
    "number_of_minimum_samples = 100\n",
    "\n",
    "parse_fcc_trace(fcc_trace_path, target_url, number_of_minimum_samples)"
   ]
  },
  {
   "cell_type": "markdown",
   "metadata": {},
   "source": [
    "### T2 : Hitogram of Average_Bandwidth - ftrace.csv\n",
    "* 목적 : 생성한 ftrace.csv를 이용하여 단말들의 평균 전송률 분포를 Histogram으로 확인\n",
    "    - 최대 전송률, 최소 전송률, 평균 전송률 값도 출력\n",
    "    - 전체 분포를 확인하기 위한 것이며 동적 대역폭 변화 Trace 생성을 위해 호출할 필요는 없음. 참고용"
   ]
  },
  {
   "cell_type": "code",
   "execution_count": 5,
   "metadata": {},
   "outputs": [
    {
     "name": "stdout",
     "output_type": "stream",
     "text": [
      "Max =  29.96327469803921  Min =  0.0  Average =  15.78767897612896\n"
     ]
    },
    {
     "data": {
      "image/png": "[encoded data removed]",
      "text/plain": [
       "<Figure size 432x288 with 1 Axes>"
      ]
     },
     "metadata": {
      "needs_background": "light"
     },
     "output_type": "display_data"
    }
   ],
   "source": [
    "import numpy as np\n",
    "import pandas as pd\n",
    "%matplotlib inline\n",
    "import matplotlib.pyplot as plt\n",
    "\n",
    "df_tr = pd.read_csv('ftrace.csv')\n",
    "print('Max = ', df_tr['avg_bw'].max(), ' Min = ', df_tr['avg_bw'].min(), ' Average = ', df_tr['avg_bw'].mean())\n",
    "hist = df_tr['avg_bw'].hist(bins=30)\n",
    "plt.show()"
   ]
  },
  {
   "cell_type": "markdown",
   "metadata": {},
   "source": [
    "## Generating Dynamic Bandwidth Traces\n",
    "### T1 : choose_IDs \n",
    "* 목적 : 동적인 대역폭 변화 Trace를 생성을 위한 단말 식별자 추출\n",
    "* Output - unit_id list [ minimum, maximum, median ]\n",
    "    - minimum : 전송률 표준 편차가 가장 작은 단말의 ID (전송률 변화가 가장 적은 단말) \n",
    "    - maximum : 전송률 표준 편차가 가장 큰 단말의 ID (전송률 변화가 가장 큰 단말) \n",
    "    - median : 전송률 표준 편차가 중간인 ID (전송률 변화가 중간 수준인 단말) \n",
    "* Input \n",
    "    - target_bw : 평균 전송률 목표치 ex) 5, 10, ... 단위는 Mbps\n",
    "    - offset : 평균 전송률 목표치에 대한 오차 허용치\n",
    "        + 즉 평균 전송률이 [target_bw - offset, target_bw + offset ]인 단말들을 추출함\n",
    "    - fdebug : True이면 부가 정보를 추출, 대상 단말들의 전송률 변화 분포 등을 확인할 수 있음\n",
    "* 동작 개요\n",
    "    - ftrace.csv에서 평균 전송률이 [target_bw - offset, target_bw + offset ] 사이의 값을 가지는 단말들을 추출함\n",
    "    - 추출한 단말들을 전송률 변화수준, 즉 표준 편차 값을 기준으로 정렬하고\n",
    "    - 전송률 변화 수준이 가장 작은 단말, 가장 큰 단말, 중위 단말의 id를 구해 return 한다\n",
    "* 사용법\n",
    "    - 아래 Code Cell을 실행하면 5Mbps (+- 0.1)와 10Mbps (+- 0.5)의 평균 전송률을 가지는 단말들을 추출하고\n",
    "    - 그 중 전송률 변화 수준에 따라 3개의 단말 ID를 return 한다\n",
    "    - 동적 대역폭 변화 Trace 생성 과정에 choose_IDs()가 필요하므로 Generate_BW_Trace 이전에 실행하여야 함"
   ]
  },
  {
   "cell_type": "code",
   "execution_count": 2,
   "metadata": {},
   "outputs": [
    {
     "name": "stdout",
     "output_type": "stream",
     "text": [
      "[ 5 Mbps, +- 0.1 Mbps]  : Number of Matching IDs =  213\n",
      " - Minimum variation =  8887 \tSTD =  0.20265002517635136\n",
      " - Maximum variation =  39876861 \tSTD =  1.2899583853307401\n",
      " - Median variation =  5521 \tSTD =  0.2882748287581752\n"
     ]
    },
    {
     "data": {
      "image/png": "[encoded data removed]",
      "text/plain": [
       "<Figure size 432x288 with 1 Axes>"
      ]
     },
     "metadata": {
      "needs_background": "light"
     },
     "output_type": "display_data"
    },
    {
     "name": "stdout",
     "output_type": "stream",
     "text": [
      "[ 10 Mbps, +- 0.5 Mbps]  : Number of Matching IDs =  161\n",
      " - Minimum variation =  3880637 \tSTD =  0.3721709595207273\n",
      " - Maximum variation =  25886677 \tSTD =  12.283256523972733\n",
      " - Median variation =  24734365 \tSTD =  1.4087205714298263\n"
     ]
    },
    {
     "data": {
      "image/png": "[encoded data removed]",
      "text/plain": [
       "<Figure size 432x288 with 1 Axes>"
      ]
     },
     "metadata": {
      "needs_background": "light"
     },
     "output_type": "display_data"
    },
    {
     "name": "stdout",
     "output_type": "stream",
     "text": [
      "[[8887, 39876861, 5521], [3880637, 25886677, 24734365]]\n"
     ]
    }
   ],
   "source": [
    "import numpy as np\n",
    "import pandas as pd\n",
    "%matplotlib inline\n",
    "import matplotlib.pyplot as plt\n",
    "\n",
    "def choose_IDs(target_bw, offset, fdebug) :\n",
    "    df_tr = pd.read_csv('ftrace.csv')\n",
    "    condition = (df_tr.avg_bw > target_bw - offset) & (df_tr.avg_bw < target_bw + offset)\n",
    "    df_ftr = df_tr[condition].sort_values(by=['std_bw'])\n",
    "    if fdebug :\n",
    "        nmatching = len(df_ftr)\n",
    "        idx_median = (int)(nmatching/2)\n",
    "        print('[', target_bw, 'Mbps, +-', offset, 'Mbps]', ' : Number of Matching IDs = ', nmatching)\n",
    "        print(' - Minimum variation = ', df_ftr.iloc[0,0], '\\tSTD = ', df_ftr.iloc[0,-1])\n",
    "        print(' - Maximum variation = ', df_ftr.iloc[-1,0], '\\tSTD = ', df_ftr.iloc[-1,-1])\n",
    "        print(' - Median variation = ', df_ftr.iloc[(int)(len(df_ftr)/2),0], '\\tSTD = ', df_ftr.iloc[(int)(len(df_ftr)/2),-1])\n",
    "        hist2 = df_ftr['std_bw'].hist()\n",
    "        plt.show()\n",
    "    IDs = [df_ftr.iloc[0,0],df_ftr.iloc[-1,0], df_ftr.iloc[(int)(len(df_ftr)/2),0]]\n",
    "    return IDs \n",
    "\n",
    "# Example Code =====================\n",
    "ltarget_bw_offset = [[5, 0.1], [10, 0.5]]\n",
    "\n",
    "id_array = []\n",
    "for bw_offset in ltarget_bw_offset :\n",
    "    id_array.append(choose_IDs(bw_offset[0], bw_offset[1], True))\n",
    "\n",
    "print(id_array)"
   ]
  },
  {
   "cell_type": "markdown",
   "metadata": {},
   "source": [
    "### T2 : Generate_BW_Traces \n",
    "* 목적 : 동적인 대역폭 변화 Trace를 생성\n",
    "* Output - 다수의 bwtrace_{bw}Mbps_{[min,max,median]}.csv, CSV Fields = [unit_id,dtime,fetch_time,bytes_total,bytes_sec]\n",
    "    - unit_id : 동적 대역폭 Trace 생성에 쓰인 사용자 단말의 ID\n",
    "    - dtime : FCC Trace 원본 파일의 sample time으로 해당 전송률 값이 측정된 시점\n",
    "    - fetch_time : 대상 서비스 사이트에서 정보를 받아 오는데 걸린 시간, 단위 micro seconds\n",
    "    - bytes_total : 전송 받은 전체 데이터의 양, 단위 Bytes\n",
    "    - bytes_sec : 초당 전송 데이터 양, 단위 Bytes per Second\n",
    "    - File 이름 관련\n",
    "        + bw - 목표 평균 전송률  \n",
    "        + [min, max, median] : 목표 평균 전송률 Trace 중 전송률 변화가 최소, 최대, 중위 \n",
    "* Input \n",
    "    - fcc_trace_path : FCC 원본 Trace --> curr_webget.csv의 경로명\n",
    "    - target_url : 특정 목적지에 대한 Trace Sample만 추출\n",
    "        + bbc.com, bing.com, apple.com, cnn.com, ebay.com, msn.com, goolge.com, imdb.com 등이 있음\n",
    "        + 정보량이 많은 target을 대상으로 하는 것이 적합(?)\n",
    "        + default = 'http://edition.cnn.com/' \n",
    "    - ltarget_bw_offset : 동적 Trace를 생성하고자 하는 목표 평균 전송률과 오차 허용치, choose_IDs 참조\n",
    "* 동작 개요\n",
    "    - 입력으로 받은 목표 전송률 목록과 choose_IDs()를 이용하여 각 목표 전송률 별 전송률 변화 최소, 최대, 중위인 단말 구하기\n",
    "    - FCC Trace에서 선택된 단말들의 Trace만 추출\n",
    "    - 추출된 Trace를 목표 전송률과 전송률 변화를 기준으로 개별 파일로 저장\n",
    "* 사용법\n",
    "    - 위의 choose_IDs() Code Cell을 실행하지 않았다면 먼저 실행\n",
    "    - 아래 Code Cell을 실행\n",
    "    - 실행 후 파일 생성을 확인"
   ]
  },
  {
   "cell_type": "code",
   "execution_count": 3,
   "metadata": {},
   "outputs": [],
   "source": [
    "def generate_bw_trace(fcc_trace_path, target_url, ltarget_bw_offset) :\n",
    "    id_array = []\n",
    "    for bw_offset in ltarget_bw_offset :\n",
    "        id_array.append(choose_IDs(bw_offset[0], bw_offset[1], False))\n",
    "    id_list = [x for sublist in id_array for x in sublist]\n",
    "    \n",
    "    use_col = ['unit_id','dtime', 'target', 'fetch_time', 'bytes_total', 'bytes_sec']\n",
    "    freader = pd.read_csv(fcc_trace_path, chunksize=10000, usecols=use_col) \n",
    "    use_col.remove('target')\n",
    "\n",
    "    f_trace = pd.DataFrame()   \n",
    "    n_count = 0\n",
    "\n",
    "    for dfchunk in freader :\n",
    "        filter_cond = (dfchunk.target == target_url) & dfchunk['unit_id'].isin(id_list)\n",
    "        f_trace = f_trace.append(dfchunk.loc[filter_cond][use_col], ignore_index = True)\n",
    "        n_count += 1\n",
    "        if n_count > 1500 :         # of records = 1294 * 10000\n",
    "            break\n",
    "\n",
    "    ldyn_level = ['min', 'max', 'median']\n",
    "    for bw_idx in range(len(id_array)) :\n",
    "        for dyn_level in range(3) :   # ['min', 'max', 'median']\n",
    "            filename = 'bwtrace_' + str(ltarget_bw_offset[bw_idx][0]) + 'Mbps_' + ldyn_level[dyn_level] + '.csv'\n",
    "            f_trace[f_trace['unit_id'] == id_array[bw_idx][dyn_level]].to_csv(filename, index=False)\n",
    "    return\n",
    "    \n",
    "# ==================================================\n",
    "fcc_trace_path = '../fcctrace/curr_webget.csv'\n",
    "target_url = 'http://edition.cnn.com/'\n",
    "ltarget_bw_offset = [[5, 0.1], [10, 0.5]]\n",
    "\n",
    "generate_bw_trace(fcc_trace_path, target_url, ltarget_bw_offset)"
   ]
  },
  {
   "cell_type": "markdown",
   "metadata": {},
   "source": [
    "### T3 : Simplify_for_Simulation\n",
    "* 목적 : Generate BW Trace에서 생성한 동적인 대역폭 변화 Trace를 NS-3 Simulation Code 작성의 편의를 위해 단순화\n",
    "* Output - sbwtrace_{bw}Mbps_{[min,max,median]}.csv, CSV Fields = [time,bps]\n",
    "    - time : 대역폭 변화 시점, 단위 micro seconds\n",
    "    - bps : 변화 시점 이후 대역폭, 단위 bps\n",
    "    - 단 column 이름이 CSV File에 포함되지 않도록 하였음\n",
    "* Input \n",
    "    - ltarget_bw_offset : 단순 동적 Trace를 생성하고자 하는 목표 평균 전송률\n",
    "* 동작 개요\n",
    "    - 입력으로 받은 목표 전송률 목록으로부터 생성된 BW Trace 파일 읽기\n",
    "    - NS-3 Simulation Trace 구조에 따라 값을 구하여 저장\n",
    "* 사용법\n",
    "    - 아래 Code Cell을 실행\n",
    "    - 실행 후 파일 생성을 확인"
   ]
  },
  {
   "cell_type": "code",
   "execution_count": 21,
   "metadata": {},
   "outputs": [],
   "source": [
    "import numpy as np\n",
    "import pandas as pd\n",
    "\n",
    "def simplify_for_simulation(ltarget_bw) :\n",
    "    ldyn_level = ['min', 'max', 'median']\n",
    "    for target_bw in ltarget_bw :\n",
    "        for dyn_level in ['min', 'max', 'median'] :\n",
    "            filename = 'bwtrace_' + str(target_bw) + 'Mbps_' + dyn_level +'.csv'\n",
    "            df = pd.read_csv(filename, usecols = ['fetch_time','bytes_sec'])\n",
    "            \n",
    "            # df['fetch_time'].cumsum(axis=0)[1:].values\n",
    "            na_time = df['fetch_time'].cumsum(axis=0)[:-1].values\n",
    "            na_bps = df['bytes_sec'][1:].values * 8\n",
    "            #na_time = na_time - na_time[0]\n",
    "            new_df = pd.DataFrame({'time' : df['fetch_time'].cumsum(axis=0)[:-1].values, \\\n",
    "                'bps' : df['bytes_sec'][1:].values * 8})\n",
    "            new_df.to_csv('s'+filename, index=False, header=False, sep=\" \")\n",
    "    return\n",
    "\n",
    "# ==================================================\n",
    "ltarget_bw = [5, 10]\n",
    "simplify_for_simulation(ltarget_bw)"
   ]
  }
 ],
 "metadata": {
  "kernelspec": {
   "display_name": "Python 3",
   "language": "python",
   "name": "python3"
  },
  "language_info": {
   "codemirror_mode": {
    "name": "ipython",
    "version": 3
   },
   "file_extension": ".py",
   "mimetype": "text/x-python",
   "name": "python",
   "nbconvert_exporter": "python",
   "pygments_lexer": "ipython3",
   "version": "3.8.10"
  },
  "vscode": {
   "interpreter": {
    "hash": "916dbcbb3f70747c44a77c7bcd40155683ae19c65e1c03b4aa3499c5328201f1"
   }
  }
 },
 "nbformat": 4,
 "nbformat_minor": 2
}
