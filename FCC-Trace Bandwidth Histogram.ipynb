{
 "cells": [
  {
   "cell_type": "code",
   "execution_count": 5,
   "metadata": {},
   "outputs": [
    {
     "name": "stdout",
     "output_type": "stream",
     "text": [
      "29.96327469803921 0.0 15.78767897612896\n"
     ]
    },
    {
     "data": {
      "image/png": "[encoded data removed]",
      "text/plain": [
       "<Figure size 432x288 with 1 Axes>"
      ]
     },
     "metadata": {
      "needs_background": "light"
     },
     "output_type": "display_data"
    }
   ],
   "source": [
    "import numpy as np\n",
    "import pandas as pd\n",
    "\n",
    "target_url = 'http://edition.cnn.com'\n",
    "\n",
    "df_tr = pd.read_csv('../fcctrace/ftrace.csv')\n",
    "df_tr.head()\n",
    "\n",
    "print(df_tr['avg_bw'].max(), df_tr['avg_bw'].min(), df_tr['avg_bw'].mean())\n",
    "hist = df_tr['avg_bw'].hist(bins=30)\n"
   ]
  },
  {
   "cell_type": "code",
   "execution_count": 31,
   "metadata": {},
   "outputs": [
    {
     "name": "stdout",
     "output_type": "stream",
     "text": [
      "213\n",
      "Minimum variation =  8887\n",
      "Maximum variation =  39876861\n",
      "Median variation =  5521\n"
     ]
    },
    {
     "data": {
      "text/html": [
       "<div>\n",
       "<style scoped>\n",
       "    .dataframe tbody tr th:only-of-type {\n",
       "        vertical-align: middle;\n",
       "    }\n",
       "\n",
       "    .dataframe tbody tr th {\n",
       "        vertical-align: top;\n",
       "    }\n",
       "\n",
       "    .dataframe thead th {\n",
       "        text-align: right;\n",
       "    }\n",
       "</style>\n",
       "<table border=\"1\" class=\"dataframe\">\n",
       "  <thead>\n",
       "    <tr style=\"text-align: right;\">\n",
       "      <th></th>\n",
       "      <th>unit_id</th>\n",
       "      <th>count</th>\n",
       "      <th>avg_bw</th>\n",
       "      <th>std_bw</th>\n",
       "    </tr>\n",
       "  </thead>\n",
       "  <tbody>\n",
       "    <tr>\n",
       "      <th>311</th>\n",
       "      <td>8887</td>\n",
       "      <td>360</td>\n",
       "      <td>5.087559</td>\n",
       "      <td>0.202650</td>\n",
       "    </tr>\n",
       "    <tr>\n",
       "      <th>110</th>\n",
       "      <td>5787</td>\n",
       "      <td>292</td>\n",
       "      <td>4.925551</td>\n",
       "      <td>0.203007</td>\n",
       "    </tr>\n",
       "    <tr>\n",
       "      <th>448</th>\n",
       "      <td>10924</td>\n",
       "      <td>363</td>\n",
       "      <td>5.059558</td>\n",
       "      <td>0.205375</td>\n",
       "    </tr>\n",
       "    <tr>\n",
       "      <th>391</th>\n",
       "      <td>10239</td>\n",
       "      <td>353</td>\n",
       "      <td>4.972726</td>\n",
       "      <td>0.205486</td>\n",
       "    </tr>\n",
       "    <tr>\n",
       "      <th>187</th>\n",
       "      <td>6854</td>\n",
       "      <td>122</td>\n",
       "      <td>5.016484</td>\n",
       "      <td>0.208295</td>\n",
       "    </tr>\n",
       "  </tbody>\n",
       "</table>\n",
       "</div>"
      ],
      "text/plain": [
       "     unit_id  count    avg_bw    std_bw\n",
       "311     8887    360  5.087559  0.202650\n",
       "110     5787    292  4.925551  0.203007\n",
       "448    10924    363  5.059558  0.205375\n",
       "391    10239    353  4.972726  0.205486\n",
       "187     6854    122  5.016484  0.208295"
      ]
     },
     "execution_count": 31,
     "metadata": {},
     "output_type": "execute_result"
    },
    {
     "data": {
      "image/png": "[encoded data removed]",
      "text/plain": [
       "<Figure size 432x288 with 1 Axes>"
      ]
     },
     "metadata": {
      "needs_background": "light"
     },
     "output_type": "display_data"
    }
   ],
   "source": [
    "condition = (df_tr.avg_bw > 4.9) & (df_tr.avg_bw < 5.1)\n",
    "#df_tr[condition].head()\n",
    "\n",
    "df_ftr = df_tr[condition].sort_values(by=['std_bw'])\n",
    "\n",
    "print(len(df_ftr))\n",
    "\n",
    "hist2 = df_ftr['std_bw'].hist()\n",
    "print('Minimum variation = ', df_ftr.iloc[0,0])\n",
    "print('Maximum variation = ', df_ftr.iloc[-1,0])\n",
    "print('Median variation = ', df_ftr.iloc[(int)(len(df_ftr)/2),0])\n",
    "df_ftr.head()\n"
   ]
  }
 ],
 "metadata": {
  "kernelspec": {
   "display_name": "Python 3",
   "language": "python",
   "name": "python3"
  },
  "language_info": {
   "codemirror_mode": {
    "name": "ipython",
    "version": 3
   },
   "file_extension": ".py",
   "mimetype": "text/x-python",
   "name": "python",
   "nbconvert_exporter": "python",
   "pygments_lexer": "ipython3",
   "version": "3.7.0"
  }
 },
 "nbformat": 4,
 "nbformat_minor": 2
}
