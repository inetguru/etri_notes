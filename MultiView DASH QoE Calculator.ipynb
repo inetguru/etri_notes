{
 "cells": [
  {
   "cell_type": "markdown",
   "metadata": {},
   "source": [
    "# ETRI Multiview DASH QoE Calculator\n",
    "## T1 : Calculating Average Video Rates for each viewpoints and quality levels\n",
    "* 목적 : QoE 계산을 위해 Multi-View Video의 평균 품질 정보 계산\n",
    "* Output - Average Video Rate 값을 가지는 DataFrame \n",
    "    - Index --> Video Quality Level\n",
    "    - Columns --> View Points \n",
    "* Input \n",
    "    - multiviewvideo.csv 경로 정보 : Simulation에 쓰이는 다중 시점 비디오 정보 파일의 경로\n",
    "* 동작 개요\n",
    "    - multiviewvideo.csv의 첫 줄을 읽어 viewpoint의 수, segment의 수와 길이 등의 메타 정보 해석\n",
    "    - 이후 [video_quality, viewpoint] 조합 별로 Segment 길이 값을 읽은 후 평균 Video Rate를 계산한다.\n",
    "* 사용법\n",
    "    - 아래 Code Cell을 실행\n",
    "    - 결과는 각 viewpoint 별 평균 Video Rate가 Mbps 단위로 표시되는 DataFrame Head가 표출"
   ]
  },
  {
   "cell_type": "code",
   "execution_count": 1,
   "metadata": {},
   "outputs": [],
   "source": [
    "import numpy as np\n",
    "import pandas as pd\n",
    "\n",
    "f = open('../ns-3-allinone/ns-3.34/contrib/etri_mvdash/multiviewvideo.csv')\n",
    "mvinfo = [int(x) for x in f.readline().split()] \n",
    "f.close()\n",
    "\n",
    "nViewpoints = mvinfo[0]\n",
    "nSegments = mvinfo[1]\n",
    "segDuration = mvinfo[2]\n",
    "nRates = mvinfo[3]\n",
    "# mvinfo[3] : # of rates/quality levels in the 1st viewpoint\n",
    "#nstreams = sum(mvinfo[3:(mvinfo[0]+3)])\n",
    "\n",
    "df = pd.read_csv('../ns-3-allinone/ns-3.34/contrib/etri_mvdash/multiviewvideo.csv',sep=\"\\t\", header=None, skiprows=1)\n",
    "df_rate_kbps = pd.DataFrame(df.mean().values.reshape((nViewpoints,nRates)).transpose()*8/segDuration, \n",
    "                   columns=[\"viewpoint_\"+str(i+1) for i in range(nViewpoints)])\n",
    "df_rate_kbps.head()"
   ]
  },
  {
   "cell_type": "markdown",
   "metadata": {},
   "source": [
    "## T2: Calculating Q points for each viewpoints and quality levels\n",
    "* 목적 : QoE 계산을 위해 Q Score를 계산\n",
    "* Output - Q Score를 가지는 DataFrame \n",
    "    - Index --> Video Quality Level\n",
    "    - Columns --> View Points \n",
    "* Input \n",
    "    - df_rate_kbps : 위 Code Cell의 결과\n",
    "* 동작 개요\n",
    "    - 최저 품질 (video_quality level = 0)을 기준으로 Q score 계산\n",
    "    - 최저 품질의 Q score = 1\n",
    "* 사용법\n",
    "    - 아래 Code Cell을 실행\n",
    "    - viewpoint와 video_quality_level에 대해 구해진 Q Score Matrix 표출"
   ]
  },
  {
   "cell_type": "code",
   "execution_count": 16,
   "metadata": {},
   "outputs": [
    {
     "name": "stdout",
     "output_type": "stream",
     "text": [
      "   viewpoint_1  viewpoint_2  viewpoint_3  viewpoint_4  viewpoint_5\n",
      "0     1.000000     1.000000     1.000000     1.000000     1.000000\n",
      "1     1.979972     1.978424     1.978430     1.980838     1.980250\n",
      "2     3.353933     3.352531     3.353364     3.355680     3.350493\n",
      "3     4.410691     4.409497     4.409743     4.410660     4.410122\n",
      "4     5.480875     5.478827     5.478912     5.484305     5.482011\n",
      "5     6.422447     6.421530     6.423529     6.424772     6.421721\n",
      "6     7.701736     7.701333     7.701070     7.702418     7.700329\n",
      "7     8.860774     8.857494     8.857437     8.860308     8.859840\n"
     ]
    }
   ],
   "source": [
    "Rmin_vp = df_rate_kbps.iloc[0].values\n",
    "\n",
    "Rn_vp = np.ones(nViewpoints)\n",
    "\n",
    "for vp in range(1,8) :\n",
    "    #n_vp.append(np.log2(df_rate_kbps.iloc[vp].values / Rmin_vp)+1, axis=0)\n",
    "    #np.append(Rn_vp,np.log2(df_rate_kbps.iloc[vp].values / Rmin_vp)+1, axis=0)\n",
    "    Rn_vp = np.vstack((Rn_vp, np.log2(df_rate_kbps.iloc[vp].values / Rmin_vp)+1) )\n",
    "\n",
    "df_qscore = pd.DataFrame(Rn_vp, columns=df_rate_kbps.columns)\n",
    "#df_qscore.to_csv(\"qscore.csv\")\n",
    "print(df_qscore)"
   ]
  },
  {
   "cell_type": "markdown",
   "metadata": {},
   "source": [
    "## T3: Plot Multi-View Video Playback and Calculate QoE\n",
    "* 목적 : Simulation에서 얻어진 다중 시점 비디오 재생 상황을 Viewpoint 변화를 중심으로 표현하고 QoE를 계산\n",
    "* Output1 - Multi-View Video Play Plot \n",
    "    - X 축 - Segment Index / Time\n",
    "    - Y 축 - View Points\n",
    "    - Red Line - Segment Play 시점에서 선택된 현재 Viewpoint\n",
    "    - Blue Line - Segment Request 시점에서 선택된 최대 품질의 Viewpoint\n",
    "* Output2 - QoE  \n",
    "    - 각 Viewpoint 별 QoE와 이들의 합인 Multi-View Video QoE\n",
    "* Input \n",
    "    - csv_path : Simulation 출력 파일이 존재하는 파일의 경로\n",
    "    - simId : Simulation Id\n",
    "    - clientId : Client Id\n",
    "    - c_alpha, c_mu, c_lambda : QoE 계산에 쓰이는 계수(Coefficients) 값\n",
    "    \n",
    "* 동작 개요 \n",
    "    - read_playbacklog\n",
    "        +Input 정보를 바탕으로 Simulation 결과 파일을 df_play DataFrame으로 읽어 들임\n",
    "    - show_multiview_play   \n",
    "        + 각 segment 시점 마다 재생 기준 현재 viewpoint, \n",
    "        + Request 기준 최고 품질 viewpoint 를 구하고\n",
    "        + 각각 plt.plot()을 이용하여 그래프 출력\n",
    "    - QoE\n",
    "        + 지정한 viewpoint (vp)에 대해 QoE 값을 계산\n",
    "* 사용법\n",
    "    - T1, T2 Cell을 먼저 실행하여야 한다\n",
    "    - simId, clientId 를 적절하게 설정한다\n",
    "        + QoE Coefficients도 필요하면 변경한다.\n",
    "    - 아래 Code Cell을 실행"
   ]
  },
  {
   "cell_type": "code",
   "execution_count": 1,
   "metadata": {},
   "outputs": [
    {
     "data": {
      "text/plain": [
       "<Figure size 1728x432 with 0 Axes>"
      ]
     },
     "metadata": {},
     "output_type": "display_data"
    }
   ],
   "source": [
    "import numpy as np\n",
    "import pandas as pd\n",
    "%matplotlib inline\n",
    "import matplotlib.pyplot as plt\n",
    "\n",
    "def read_playbacklog(csv_path, simId, clientId) :\n",
    "    playfilename = csv_path + \"playback_sim\" + str(simId) +\"_cl\" + str(clientId) + \".csv\"\n",
    "    return pd.read_csv(playfilename, sep=\"\\t\")\n",
    "\n",
    "def show_multiview_play(df_play) :\n",
    "    nSegments = df_play.shape[0]\n",
    "    #print(df_play.head())\n",
    "    vp_high = ((df_play.iloc[:,3:] > 0)* [1,2,3,4,5]).T.sum().astype(int)\n",
    "\n",
    "    plt.figure(figsize=(24, 6))\n",
    "    plt.plot(df_play.tIndex, df_play.vpoint+1, 'r*-', df_play.tIndex, vp_high, 'bx:')\n",
    "    plt.axis([0,100,-0.2,5.2])\n",
    "    plt.show()\n",
    "    return\n",
    "\n",
    "def q(viewpoint, rIndex) :\n",
    "    return df_qscore.iloc[rIndex, viewpoint-1]\n",
    "\n",
    "def QoE(df_play, vp, c_alpha, c_mu, c_lambda) :\n",
    "    Vn_list = df_play.vpoint.values\n",
    "    Rn_list = df_play.iloc[:,3+vp].values\n",
    "    Tn_list = (np.diff(df_play.Start) - segDuration)/segDuration\n",
    "    \n",
    "    qscores = np.zeros(Rn_list.size)\n",
    "    for i in range(Rn_list.size) :\n",
    "        qscores[i] = q (vp+1, Rn_list[i])\n",
    "    qoe_part1 = sum((Vn_list == vp) * qscores) + c_alpha * sum((Vn_list != vp) * qscores)\n",
    "    qoe_part2 = sum((df_play.vpoint == vp)[1:] * Tn_list) \\\n",
    "                + c_alpha * sum((df_play.vpoint != vp)[1:] * Tn_list)    \n",
    "    qoe_part3 = sum((df_play.vpoint == vp)[1:] * abs(np.diff(qscores))) \\\n",
    "                + c_alpha * sum((df_play.vpoint != vp)[1:] * abs(np.diff(qscores)))    \n",
    "    q_total = qoe_part1 - c_mu * qoe_part2 - c_lambda * qoe_part3\n",
    "    outstr = \"[{}] QoE Total = {:>7.3f}, Part1 = {:>7.3f}, Part 2 = {:>7.3f}, Part 3 = {:>7.3f}\".format(vp, \\\n",
    "                q_total, qoe_part1, qoe_part2, qoe_part3)\n",
    "    print (outstr)\n",
    "    return q_total\n",
    "\n",
    "\n",
    "# ==================================================\n",
    "csv_path = '../ns-3-allinone/ns-3.35/contrib/etri_mvdash/'\n",
    "simId = 0\n",
    "clientId = 0\n",
    "\n",
    "c_alpha = 0.1\n",
    "c_mu = 2.66\n",
    "c_lambda = 1.0\n",
    "\n",
    "\n",
    "df_play = read_playbacklog(csv_path, simId, clientId)\n",
    "show_multiview_play(df_play)\n",
    "\n",
    "# multi_qoe = 0\n",
    "# for vp in range(nViewpoints) :\n",
    "#     multi_qoe += QoE(df_play, vp, c_alpha, c_mu, c_lambda)     \n",
    "# print(\"Multi-View Video QoE {:>7.3f}\".format(multi_qoe))"
   ]
  }
 ],
 "metadata": {
  "kernelspec": {
   "display_name": "Python 3",
   "language": "python",
   "name": "python3"
  },
  "language_info": {
   "codemirror_mode": {
    "name": "ipython",
    "version": 3
   },
   "file_extension": ".py",
   "mimetype": "text/x-python",
   "name": "python",
   "nbconvert_exporter": "python",
   "pygments_lexer": "ipython3",
   "version": "3.8.10"
  },
  "vscode": {
   "interpreter": {
    "hash": "916dbcbb3f70747c44a77c7bcd40155683ae19c65e1c03b4aa3499c5328201f1"
   }
  }
 },
 "nbformat": 4,
 "nbformat_minor": 2
}
