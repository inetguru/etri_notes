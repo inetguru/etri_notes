{
 "cells": [
  {
   "cell_type": "markdown",
   "metadata": {},
   "source": [
    "# ETRI Multiview DASH QoE Calculator"
   ]
  },
  {
   "cell_type": "code",
   "execution_count": 137,
   "metadata": {},
   "outputs": [],
   "source": [
    "import numpy as np\n",
    "import pandas as pd\n",
    "\n",
    "f = open('../source/ns-3.34/contrib/etri_mvdash/multiviewvideo.csv')\n",
    "mvinfo = [int(x) for x in f.readline().split()] \n",
    "f.close()\n",
    "\n",
    "nViewpoints = mvinfo[0]\n",
    "nSegments = mvinfo[1]\n",
    "segDuration = mvinfo[2]\n",
    "nRates = mvinfo[3]\n",
    "# mvinfo[3] : # of rates/quality levels in the 1st viewpoint\n",
    "#nstreams = sum(mvinfo[3:(mvinfo[0]+3)])\n",
    "\n",
    "df = pd.read_csv('../source/ns-3.34/contrib/etri_mvdash/multiviewvideo.csv',sep=\"\\t\", header=None, skiprows=1)"
   ]
  },
  {
   "cell_type": "code",
   "execution_count": 139,
   "metadata": {},
   "outputs": [
    {
     "data": {
      "text/html": [
       "<div>\n",
       "<style scoped>\n",
       "    .dataframe tbody tr th:only-of-type {\n",
       "        vertical-align: middle;\n",
       "    }\n",
       "\n",
       "    .dataframe tbody tr th {\n",
       "        vertical-align: top;\n",
       "    }\n",
       "\n",
       "    .dataframe thead th {\n",
       "        text-align: right;\n",
       "    }\n",
       "</style>\n",
       "<table border=\"1\" class=\"dataframe\">\n",
       "  <thead>\n",
       "    <tr style=\"text-align: right;\">\n",
       "      <th></th>\n",
       "      <th>viewpoint_1</th>\n",
       "      <th>viewpoint_2</th>\n",
       "      <th>viewpoint_3</th>\n",
       "      <th>viewpoint_4</th>\n",
       "      <th>viewpoint_5</th>\n",
       "    </tr>\n",
       "  </thead>\n",
       "  <tbody>\n",
       "    <tr>\n",
       "      <th>0</th>\n",
       "      <td>0.176392</td>\n",
       "      <td>0.176643</td>\n",
       "      <td>0.176504</td>\n",
       "      <td>0.176356</td>\n",
       "      <td>0.176393</td>\n",
       "    </tr>\n",
       "    <tr>\n",
       "      <th>1</th>\n",
       "      <td>0.347921</td>\n",
       "      <td>0.348043</td>\n",
       "      <td>0.347769</td>\n",
       "      <td>0.348058</td>\n",
       "      <td>0.347989</td>\n",
       "    </tr>\n",
       "    <tr>\n",
       "      <th>2</th>\n",
       "      <td>0.901745</td>\n",
       "      <td>0.902152</td>\n",
       "      <td>0.901960</td>\n",
       "      <td>0.902652</td>\n",
       "      <td>0.899600</td>\n",
       "    </tr>\n",
       "    <tr>\n",
       "      <th>3</th>\n",
       "      <td>1.875856</td>\n",
       "      <td>1.876975</td>\n",
       "      <td>1.875812</td>\n",
       "      <td>1.875432</td>\n",
       "      <td>1.875122</td>\n",
       "    </tr>\n",
       "    <tr>\n",
       "      <th>4</th>\n",
       "      <td>3.938739</td>\n",
       "      <td>3.938752</td>\n",
       "      <td>3.935874</td>\n",
       "      <td>3.947304</td>\n",
       "      <td>3.941852</td>\n",
       "    </tr>\n",
       "  </tbody>\n",
       "</table>\n",
       "</div>"
      ],
      "text/plain": [
       "   viewpoint_1  viewpoint_2  viewpoint_3  viewpoint_4  viewpoint_5\n",
       "0     0.176392     0.176643     0.176504     0.176356     0.176393\n",
       "1     0.347921     0.348043     0.347769     0.348058     0.347989\n",
       "2     0.901745     0.902152     0.901960     0.902652     0.899600\n",
       "3     1.875856     1.876975     1.875812     1.875432     1.875122\n",
       "4     3.938739     3.938752     3.935874     3.947304     3.941852"
      ]
     },
     "execution_count": 139,
     "metadata": {},
     "output_type": "execute_result"
    }
   ],
   "source": [
    "df_rate_kbps = pd.DataFrame(df.mean().values.reshape((nViewpoints,nRates)).transpose()*8/segDuration, \n",
    "                   columns=[\"viewpoint_\"+str(i+1) for i in range(nViewpoints)])\n",
    "df_rate_kbps.head()"
   ]
  },
  {
   "cell_type": "code",
   "execution_count": 141,
   "metadata": {},
   "outputs": [
    {
     "name": "stdout",
     "output_type": "stream",
     "text": [
      "   viewpoint_1  viewpoint_2  viewpoint_3  viewpoint_4  viewpoint_5\n",
      "0     1.000000     1.000000     1.000000     1.000000     1.000000\n",
      "1     1.979972     1.978424     1.978430     1.980838     1.980250\n",
      "2     3.353933     3.352531     3.353364     3.355680     3.350493\n",
      "3     4.410691     4.409497     4.409743     4.410660     4.410122\n",
      "4     5.480875     5.478827     5.478912     5.484305     5.482011\n",
      "5     6.422447     6.421530     6.423529     6.424772     6.421721\n",
      "6     7.701736     7.701333     7.701070     7.702418     7.700329\n",
      "7     8.860774     8.857494     8.857437     8.860308     8.859840\n"
     ]
    }
   ],
   "source": [
    "Rmin_vp = df_rate_kbps.iloc[0].values\n",
    "\n",
    "Rn_vp = np.ones(nViewpoints)\n",
    "\n",
    "for vp in range(1,8) :\n",
    "    #n_vp.append(np.log2(df_rate_kbps.iloc[vp].values / Rmin_vp)+1, axis=0)\n",
    "    #np.append(Rn_vp,np.log2(df_rate_kbps.iloc[vp].values / Rmin_vp)+1, axis=0)\n",
    "    Rn_vp = np.vstack((Rn_vp, np.log2(df_rate_kbps.iloc[vp].values / Rmin_vp)+1) )\n",
    "\n",
    "df_qscore = pd.DataFrame(Rn_vp, columns=df_rate_kbps.columns)\n",
    "print(df_qscore)"
   ]
  },
  {
   "cell_type": "code",
   "execution_count": 175,
   "metadata": {},
   "outputs": [
    {
     "data": {
      "text/html": [
       "<div>\n",
       "<style scoped>\n",
       "    .dataframe tbody tr th:only-of-type {\n",
       "        vertical-align: middle;\n",
       "    }\n",
       "\n",
       "    .dataframe tbody tr th {\n",
       "        vertical-align: top;\n",
       "    }\n",
       "\n",
       "    .dataframe thead th {\n",
       "        text-align: right;\n",
       "    }\n",
       "</style>\n",
       "<table border=\"1\" class=\"dataframe\">\n",
       "  <thead>\n",
       "    <tr style=\"text-align: right;\">\n",
       "      <th></th>\n",
       "      <th>tIndex</th>\n",
       "      <th>vpoint</th>\n",
       "      <th>Start</th>\n",
       "      <th>q_v1</th>\n",
       "      <th>q_v2</th>\n",
       "      <th>q_v3</th>\n",
       "      <th>q_v4</th>\n",
       "      <th>q_v5</th>\n",
       "    </tr>\n",
       "  </thead>\n",
       "  <tbody>\n",
       "    <tr>\n",
       "      <th>0</th>\n",
       "      <td>0</td>\n",
       "      <td>0</td>\n",
       "      <td>1312272</td>\n",
       "      <td>0</td>\n",
       "      <td>0</td>\n",
       "      <td>0</td>\n",
       "      <td>0</td>\n",
       "      <td>0</td>\n",
       "    </tr>\n",
       "    <tr>\n",
       "      <th>1</th>\n",
       "      <td>1</td>\n",
       "      <td>0</td>\n",
       "      <td>3312272</td>\n",
       "      <td>0</td>\n",
       "      <td>0</td>\n",
       "      <td>0</td>\n",
       "      <td>0</td>\n",
       "      <td>0</td>\n",
       "    </tr>\n",
       "    <tr>\n",
       "      <th>2</th>\n",
       "      <td>2</td>\n",
       "      <td>0</td>\n",
       "      <td>5312272</td>\n",
       "      <td>1</td>\n",
       "      <td>0</td>\n",
       "      <td>0</td>\n",
       "      <td>0</td>\n",
       "      <td>0</td>\n",
       "    </tr>\n",
       "    <tr>\n",
       "      <th>3</th>\n",
       "      <td>3</td>\n",
       "      <td>2</td>\n",
       "      <td>7312272</td>\n",
       "      <td>3</td>\n",
       "      <td>0</td>\n",
       "      <td>0</td>\n",
       "      <td>0</td>\n",
       "      <td>0</td>\n",
       "    </tr>\n",
       "    <tr>\n",
       "      <th>4</th>\n",
       "      <td>4</td>\n",
       "      <td>2</td>\n",
       "      <td>9312272</td>\n",
       "      <td>3</td>\n",
       "      <td>0</td>\n",
       "      <td>0</td>\n",
       "      <td>0</td>\n",
       "      <td>0</td>\n",
       "    </tr>\n",
       "  </tbody>\n",
       "</table>\n",
       "</div>"
      ],
      "text/plain": [
       "   tIndex  vpoint    Start  q_v1  q_v2  q_v3  q_v4  q_v5\n",
       "0       0       0  1312272     0     0     0     0     0\n",
       "1       1       0  3312272     0     0     0     0     0\n",
       "2       2       0  5312272     1     0     0     0     0\n",
       "3       3       2  7312272     3     0     0     0     0\n",
       "4       4       2  9312272     3     0     0     0     0"
      ]
     },
     "execution_count": 175,
     "metadata": {},
     "output_type": "execute_result"
    }
   ],
   "source": [
    "import numpy as np\n",
    "import pandas as pd\n",
    "%matplotlib inline\n",
    "import matplotlib.pyplot as plt\n",
    "\n",
    "df_play = pd.read_csv('../source/ns-3.34/contrib/etri_mvdash/playback.csv', sep=\"\\t\")\n",
    "nSegments = df_play.shape[0]\n",
    "df_play.head()"
   ]
  },
  {
   "cell_type": "code",
   "execution_count": 152,
   "metadata": {
    "scrolled": true
   },
   "outputs": [
    {
     "data": {
      "image/png": "[encoded data removed]",
      "text/plain": [
       "<Figure size 1728x432 with 1 Axes>"
      ]
     },
     "metadata": {
      "needs_background": "light"
     },
     "output_type": "display_data"
    }
   ],
   "source": [
    "vp_high = ((df_play.iloc[:,3:] > 0)* [1,2,3,4,5]).T.sum().astype(int)\n",
    "\n",
    "plt.figure(figsize=(24, 6));\n",
    "plt.plot(df_play.tIndex, df_play.vpoint+1, 'r*-', df_play.tIndex, vp_high, 'bx:')\n",
    "plt.axis([0,100,-0.2,5.2])\n",
    "plt.show()"
   ]
  },
  {
   "cell_type": "code",
   "execution_count": 206,
   "metadata": {},
   "outputs": [],
   "source": [
    "def q(viewpoint, rIndex) :\n",
    "    return df_qscore.iloc[rIndex, viewpoint-1]\n",
    "\n",
    "def QoE(vp, Vn_list, Rn_list, Tn_list, c_alpha, c_mu, c_lambda) :\n",
    "    qscores = np.zeros(Rn_list.size)\n",
    "    for i in range(Rn_list.size) :\n",
    "        qscores[i] = q (vp+1, Rn_list[i])\n",
    "    qoe_part1 = sum((Vn_list == vp) * qscores) + c_alpha * sum((Vn_list != vp) * qscores)\n",
    "    qoe_part2 = sum((df_play.vpoint == vp)[1:] * Tn_list) \\\n",
    "                + c_alpha * sum((df_play.vpoint != vp)[1:] * Tn_list)    \n",
    "    qoe_part3 = sum((df_play.vpoint == vp)[1:] * abs(np.diff(qscores))) \\\n",
    "                + c_alpha * sum((df_play.vpoint != vp)[1:] * abs(np.diff(qscores)))    \n",
    "    q_total = qoe_part1 - c_mu * qoe_part2 - c_lambda * qoe_part3\n",
    "    outstr = \"[{}] QoE Total = {:>7.3f}, Part1 = {:>7.3f}, Part 2 = {:>7.3f}, Part 3 = {:>7.3f}\".format(vp, \\\n",
    "                q_total, qoe_part1, qoe_part2, qoe_part3)\n",
    "    print (outstr)\n",
    "    return q_total\n",
    "    "
   ]
  },
  {
   "cell_type": "markdown",
   "metadata": {},
   "source": [
    "# Set coefficients"
   ]
  },
  {
   "cell_type": "code",
   "execution_count": 208,
   "metadata": {},
   "outputs": [
    {
     "name": "stdout",
     "output_type": "stream",
     "text": [
      "[0] QoE Total = 316.841, Part1 = 434.723, Part 2 =   0.000, Part 3 = 117.882\n",
      "[1] QoE Total = 131.392, Part1 = 178.535, Part 2 =   0.000, Part 3 =  47.143\n",
      "[2] QoE Total =  57.815, Part1 =  81.521, Part 2 =   0.000, Part 3 =  23.706\n",
      "[3] QoE Total =  25.342, Part1 =  26.683, Part 2 =   0.000, Part 3 =   1.340\n",
      "[4] QoE Total = 105.049, Part1 = 137.105, Part 2 =   0.000, Part 3 =  32.056\n",
      "Multi-View Video QoE 636.439\n"
     ]
    }
   ],
   "source": [
    "c_alpha = 0.1\n",
    "c_mu = 2.66\n",
    "c_lambda = 1.0\n",
    "\n",
    "Tn_list = np.diff(df_play.Start) - segDuration\n",
    "Vn_list = df_play.vpoint.values\n",
    "\n",
    "multi_qoe = 0\n",
    "\n",
    "for vp in range(nViewpoints) :\n",
    "    Rn_list = df_play.iloc[:,3+vp].values\n",
    "    multi_qoe += QoE(vp, Vn_list, Rn_list, Tn_list, c_alpha, c_mu, c_lambda)  \n",
    "    \n",
    "print(\"Multi-View Video QoE {:>7.3f}\".format(multi_qoe))"
   ]
  },
  {
   "cell_type": "markdown",
   "metadata": {},
   "source": [
    "## Obsolete Codes"
   ]
  },
  {
   "cell_type": "code",
   "execution_count": 186,
   "metadata": {},
   "outputs": [
    {
     "name": "stdout",
     "output_type": "stream",
     "text": [
      "402.84015000258495\n",
      "318.82944844055606\n",
      "107.75595157474002\n",
      "101.26143436265653\n"
     ]
    }
   ],
   "source": [
    "#Obsolete Code\n",
    "vp = 0;\n",
    "Rn_list = df_play.iloc[:,3+vp].values\n",
    "Vn_list = df_play.vpoint.values\n",
    "\n",
    "qscores = np.zeros(nSegments)\n",
    "for i in range(nSegments) :\n",
    "#    qscores[i] = q (vp+1, df_play.q_v1[i])\n",
    "    qscores[i] = q (vp+1, Rn_list[i])\n",
    "\n",
    "q_selected = sum((df_play.vpoint == vp) * qscores)\n",
    "print(q_selected)\n",
    "#print((df_play.vpoint == vp) * qscores)\n",
    "q_unselected = sum((df_play.vpoint != vp) * qscores)\n",
    "print(q_unselected)\n",
    "\n",
    "print(sum((df_play.vpoint == vp)[1:] * abs(np.diff(qscores))))\n",
    "print(sum((df_play.vpoint != vp)[1:] * abs(np.diff(qscores))))    "
   ]
  }
 ],
 "metadata": {
  "kernelspec": {
   "display_name": "Python 3",
   "language": "python",
   "name": "python3"
  },
  "language_info": {
   "codemirror_mode": {
    "name": "ipython",
    "version": 3
   },
   "file_extension": ".py",
   "mimetype": "text/x-python",
   "name": "python",
   "nbconvert_exporter": "python",
   "pygments_lexer": "ipython3",
   "version": "3.7.0"
  }
 },
 "nbformat": 4,
 "nbformat_minor": 2
}
