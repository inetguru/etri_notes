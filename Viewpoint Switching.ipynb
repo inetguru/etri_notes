{
 "cells": [
  {
   "cell_type": "code",
   "execution_count": 8,
   "metadata": {},
   "outputs": [
    {
     "name": "stdout",
     "output_type": "stream",
     "text": [
      "[[0.4 0.4 0.2]\n",
      " [0.4 0.4 0.2]\n",
      " [0.4 0.4 0.2]]\n"
     ]
    }
   ],
   "source": [
    "import numpy as np\n",
    "\n",
    "m1 = np.matrix('0.7 0.3; 0.3 0.7')\n",
    "m2 = np.matrix('1 0; 0 1')\n",
    "#print(np.linalg.matrix_power(m1,100))\n",
    "#print(np.matmul(m1,m2))\n",
    "m3 = np.matrix('0.4 0.4 0.2; 0.4 0.6 0; 0.4 0 0.6')\n",
    "#m4 = np.matrix('0.4 0.2 0.2 0.1 0.1; 0.4 0.3 0.3 0 0; 0.4 0 0.6')\n",
    "\n",
    "print(np.linalg.matrix_power(m3,100))\n"
   ]
  }
 ],
 "metadata": {
  "interpreter": {
   "hash": "a5547e967db738d4c6b09aef3f0eca485f068317b54cf24bcfaff9145d7f0a22"
  },
  "kernelspec": {
   "display_name": "Python 3.7.0 64-bit ('base': conda)",
   "name": "python3"
  },
  "language_info": {
   "codemirror_mode": {
    "name": "ipython",
    "version": 3
   },
   "file_extension": ".py",
   "mimetype": "text/x-python",
   "name": "python",
   "nbconvert_exporter": "python",
   "pygments_lexer": "ipython3",
   "version": "3.7.0"
  },
  "orig_nbformat": 4
 },
 "nbformat": 4,
 "nbformat_minor": 2
}
